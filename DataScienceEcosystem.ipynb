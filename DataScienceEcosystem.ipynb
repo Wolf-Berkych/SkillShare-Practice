{
 "cells": [
  {
   "cell_type": "markdown",
   "id": "2bcc5125-d567-4130-bafc-036a37fb6133",
   "metadata": {},
   "source": [
    "# Data Science Tools and Ecosystem"
   ]
  },
  {
   "cell_type": "markdown",
   "id": "490b5b3b-11ad-4ad1-97fd-ab19355a2b46",
   "metadata": {},
   "source": [
    "In this notebook, Data Science Tools and Ecosystem are summarized."
   ]
  },
  {
   "cell_type": "markdown",
   "id": "698d86fb-29f4-431e-8671-24fa2ef9d387",
   "metadata": {},
   "source": [
    "__Objectives:__\n",
    "\n",
    "- List popular languages for Data Science\n",
    "- List Data Science Tools\n",
    "- Provide examples of arithmetic expressions\n",
    "- Practice working in the Jupyter Notebook environment"
   ]
  },
  {
   "cell_type": "markdown",
   "id": "caea4448-aa26-48c9-a42e-273196bac256",
   "metadata": {},
   "source": [
    "Some of the popular languages that Data Scientists use are:\n",
    "\n",
    "1. Python\n",
    "2. R\n",
    "3. Java\n",
    "4. SQL"
   ]
  },
  {
   "cell_type": "markdown",
   "id": "0c470e57-1794-4c2c-ae30-377ef92ee9fd",
   "metadata": {},
   "source": [
    "Some of the commonly used libraries used by Data Scientists include:\n",
    "\n",
    "1. NumPy\n",
    "2. Pandas\n",
    "3. Matplotlib\n",
    "4. Seaborn"
   ]
  },
  {
   "cell_type": "markdown",
   "id": "1fe457a6-1134-4a56-8e1a-fedeec20dc3b",
   "metadata": {},
   "source": [
    "| Data Science Tools |\n",
    "|--------------------|\n",
    "| Jupyter Notebook |\n",
    "| RStudio |\n",
    "| Python IDE |"
   ]
  },
  {
   "cell_type": "markdown",
   "id": "c5152e1d-e1a9-46bb-98f3-cd4edf325796",
   "metadata": {},
   "source": [
    "### Below are a few examples of evaluating arithmetic expressions in Python"
   ]
  },
  {
   "cell_type": "code",
   "execution_count": 5,
   "id": "9b4c640e-c0b9-4bd1-bc2a-7c7c60ee88d8",
   "metadata": {},
   "outputs": [
    {
     "data": {
      "text/plain": [
       "17"
      ]
     },
     "execution_count": 5,
     "metadata": {},
     "output_type": "execute_result"
    }
   ],
   "source": [
    "# This a simple arithmetic expression to multiply and then add integers\n",
    "\n",
    "(3*4)+5"
   ]
  },
  {
   "cell_type": "code",
   "execution_count": 6,
   "id": "7d142d2c-a2d4-4f05-b7f4-5f6e0f8dab7d",
   "metadata": {},
   "outputs": [
    {
     "data": {
      "text/plain": [
       "3.3333333333333335"
      ]
     },
     "execution_count": 6,
     "metadata": {},
     "output_type": "execute_result"
    }
   ],
   "source": [
    "# This will convert 200 minutes to hours by diving by 60\n",
    "\n",
    "200/60"
   ]
  },
  {
   "cell_type": "markdown",
   "id": "c14155c3-69f8-465a-abd2-511b89bb4838",
   "metadata": {},
   "source": [
    "## Author\n",
    "Volodymyr Berkych"
   ]
  },
  {
   "cell_type": "code",
   "execution_count": null,
   "id": "609ebcff-d28d-45aa-93ff-a3cc47a597be",
   "metadata": {},
   "outputs": [],
   "source": []
  }
 ],
 "metadata": {
  "kernelspec": {
   "display_name": "Python 3 (ipykernel)",
   "language": "python",
   "name": "python3"
  },
  "language_info": {
   "codemirror_mode": {
    "name": "ipython",
    "version": 3
   },
   "file_extension": ".py",
   "mimetype": "text/x-python",
   "name": "python",
   "nbconvert_exporter": "python",
   "pygments_lexer": "ipython3",
   "version": "3.12.4"
  }
 },
 "nbformat": 4,
 "nbformat_minor": 5
}
